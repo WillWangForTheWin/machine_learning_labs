{
  "nbformat": 4,
  "nbformat_minor": 0,
  "metadata": {
    "colab": {
      "name": "hw5_code (1).ipynb",
      "provenance": [],
      "collapsed_sections": []
    },
    "kernelspec": {
      "name": "python3",
      "display_name": "Python 3"
    }
  },
  "cells": [
    {
      "cell_type": "markdown",
      "metadata": {
        "id": "isUVtIh32QpY"
      },
      "source": [
        "# Homework 5 Code"
      ]
    },
    {
      "cell_type": "code",
      "metadata": {
        "id": "wVUYkUOixhB9"
      },
      "source": [
        "# Add import statements here\n",
        "from sklearn.tree import DecisionTreeClassifier\n",
        "from scipy.stats import mode\n",
        "import pandas as pd\n",
        "import numpy as np\n",
        "import matplotlib.pyplot as plt\n",
        "import tensorflow as tf\n",
        "from tensorflow import keras\n",
        "from tensorflow.keras import layers\n",
        "from sklearn.metrics import accuracy_score"
      ],
      "execution_count": null,
      "outputs": []
    },
    {
      "cell_type": "code",
      "metadata": {
        "id": "IIEf4mleVesK"
      },
      "source": [
        "from keras.layers.convolutional import Conv2D, MaxPooling2D\n",
        "from keras.models import Sequential\n",
        "from keras.layers import Dense, Activation, Flatten"
      ],
      "execution_count": null,
      "outputs": []
    },
    {
      "cell_type": "code",
      "metadata": {
        "id": "FidREiWX2eOL",
        "colab": {
          "base_uri": "https://localhost:8080/"
        },
        "outputId": "f5805c23-7e76-4cb9-ef56-67498305c04e"
      },
      "source": [
        "# To access files in your Google Drive, run this block and follow the instructions\n",
        "from google.colab import drive\n",
        "drive.mount('/content/gdrive')"
      ],
      "execution_count": null,
      "outputs": [
        {
          "output_type": "stream",
          "text": [
            "Mounted at /content/gdrive\n"
          ],
          "name": "stdout"
        }
      ]
    },
    {
      "cell_type": "code",
      "metadata": {
        "id": "41rnGJpR2ggr",
        "colab": {
          "base_uri": "https://localhost:8080/"
        },
        "outputId": "bcd06596-8d1b-4a9c-eafc-3f6b007cb098"
      },
      "source": [
        "# To test if the above block worked, run this block\n",
        "!ls '/content/gdrive/My Drive/'"
      ],
      "execution_count": null,
      "outputs": [
        {
          "output_type": "stream",
          "text": [
            " CEACAA007UZY38.PDF\t\t      'PW PRESENTATION.gslides'\n",
            "'Chapter 1. Arrays and Strings.gdoc'  'Python for Finance.gdoc'\n",
            " cleveland_test.csv\t\t      'Q&A.docx'\n",
            " cleveland_train.csv\t\t      'Q&A *legit*.gdoc'\n",
            "'Colab Notebooks'\t\t      'Q&A PREP.gdoc'\n",
            " G1124769K.jpg\t\t\t      'Questions for Enterprise.gdoc'\n",
            "'Google 相册'\t\t\t      'Subset sum problem.gdoc'\n",
            "'IB Companies Need to apply.gdoc'     'Untitled document (1).gdoc'\n",
            "'independent study cse.gdoc'\t      'Untitled document.gdoc'\n",
            "'Language skills (LT4).pdf'\t       Videos\n",
            "'linkedin picture _.jpg'\t      'will s analysis essay.gdoc'\n",
            " ME.gslides\t\t\t      \"Will's research paper.gdoc\"\n",
            "'Mündliches Projekt zwei.gdoc'\t       zip_test.csv\n",
            "'mundlich projekt .gdoc'\t       zip_train.csv\n",
            " Notability\t\t\t       无标题文档.gdoc\n"
          ],
          "name": "stdout"
        }
      ]
    },
    {
      "cell_type": "markdown",
      "metadata": {
        "id": "uUO2zD1ep2ag"
      },
      "source": [
        "## Neural Network\n",
        "\n",
        "The `neural_network` function creates a model that learns to classify handwritten digits.\n",
        "\n",
        "Inputs:\n",
        "* `X_train` is the training data\n",
        "* `y_train` are the training labels\n",
        "* `X_test` is the testing data\n",
        "* `y_test` are the testing labels\n",
        "\n",
        "Outputs: \n",
        "* `test_loss` is the loss after evaluating the testing dataset\n",
        "* `test_acc` is the accuracy after evaluating the testing dataset\n",
        "* `predictions` are the models predictions of the testing dataset\n",
        "\n",
        "Note: Have fun and be creative with this assignment!\n"
      ]
    },
    {
      "cell_type": "code",
      "metadata": {
        "id": "80zLYXHwp5ms"
      },
      "source": [
        "-def neural_network(x_train, y_train, x_test, y_test):\n",
        "\n",
        "  # Implement model\n",
        "  model = tf.keras.models.Sequential([\n",
        "  tf.keras.layers.Flatten(input_shape=(28, 28, 1)),\n",
        "  tf.keras.layers.Dense(128,activation='relu'),\n",
        "  #we tried to add an additional dense layer of size 64 and relu activation function, and see the effect\n",
        "  #we tried to add an additional dense layer of size 64 and softmax activation function, and see the effect\n",
        "  #tf.keras.layers.Dense(64,activation='softmax'),\n",
        "  #activation = softmax is for 4 PART C\n",
        "  tf.keras.layers.Dense(10, activation='softmax')\n",
        "  #tf.keras.layers.Dense(10)\n",
        "])\n",
        "  \n",
        "  #model = tf.keras.Sequential()\n",
        "  #model.add(tf.keras.layers.Conv2D(64, 3, 3, input_shape=(60000, 28, 28)))\n",
        "  #model.add(Flatten())\n",
        "  #model.add(tf.keras.Input(shape=(28,)))\n",
        "  #model.add(tf.keras.layers.Dense(10, activation='relu'))\n",
        "  # Feel free to change this up, but leave it at first\n",
        "  model.compile(optimizer='adam',\n",
        "                loss=tf.keras.losses.SparseCategoricalCrossentropy(from_logits=True),\n",
        "                metrics=['accuracy'])\n",
        "  \n",
        "  # Fit and evaluate\n",
        "  model.fit(\n",
        "      x_train,\n",
        "      y_train,\n",
        "      epochs=6, \n",
        "  )\n",
        "  # Calculate predictions\n",
        "  # Evaluate the model on the test data using `evaluate`\n",
        "  print(\"Evaluate on test data\")\n",
        "  results = model.evaluate(x_test, y_test)\n",
        "  (test_loss, test_acc) = results\n",
        "  print(\"test loss, test acc:\", results)\n",
        "\n",
        "  # Generate predictions (probabilities -- the output of the last layer)\n",
        "  # on new data using `predict`\n",
        "  print(\"Generate predictions for 10 samples\")\n",
        "  predictions = model.predict(x_test[:10])\n",
        "  print(\"predictions shape:\", predictions.shape)\n",
        "  return test_loss/10, test_acc, predictions"
      ],
      "execution_count": null,
      "outputs": []
    },
    {
      "cell_type": "markdown",
      "metadata": {
        "id": "EVvP0vCKqYsx"
      },
      "source": [
        "## Run and Plot\n",
        "\n",
        "Run your neural network code and plot figures below"
      ]
    },
    {
      "cell_type": "code",
      "metadata": {
        "id": "LEfN9w__p5c1",
        "colab": {
          "base_uri": "https://localhost:8080/"
        },
        "outputId": "c91a4c07-ff4e-4afc-bb48-ea74cf03a070"
      },
      "source": [
        "# Other neural network code here:\n",
        "\n",
        "# Load data\n",
        "mnist = tf.keras.datasets.mnist\n",
        "(x_train, y_train), (x_test, y_test) = mnist.load_data()"
      ],
      "execution_count": null,
      "outputs": [
        {
          "output_type": "stream",
          "text": [
            "Downloading data from https://storage.googleapis.com/tensorflow/tf-keras-datasets/mnist.npz\n",
            "11493376/11490434 [==============================] - 0s 0us/step\n"
          ],
          "name": "stdout"
        }
      ]
    },
    {
      "cell_type": "code",
      "metadata": {
        "id": "_Va8OTUfPa2T"
      },
      "source": [
        "#reshape the y_train to be of shape(60000,1) and y_test to be of shape(10000,1)\n",
        "y_train = np.reshape(y_train,(60000,1))\n",
        "y_test = np.reshape(y_test,(10000,1))\n",
        "#rescale the feature value of the x_train and x_test to be in the range between 0 and 1\n",
        "x_train = x_train/255\n",
        "x_test = x_test/255"
      ],
      "execution_count": null,
      "outputs": []
    },
    {
      "cell_type": "code",
      "metadata": {
        "colab": {
          "base_uri": "https://localhost:8080/"
        },
        "id": "rYp3QxvTSiNw",
        "outputId": "b7ff7867-a1db-4eef-9eed-c0f4e006e0f9"
      },
      "source": [
        "#running the model here\n",
        "neural_network(x_train, y_train, x_test, y_test)"
      ],
      "execution_count": null,
      "outputs": [
        {
          "output_type": "stream",
          "text": [
            "Epoch 1/6\n",
            "1875/1875 [==============================] - 4s 2ms/step - loss: 1.5681 - accuracy: 0.9088\n",
            "Epoch 2/6\n",
            "1875/1875 [==============================] - 4s 2ms/step - loss: 1.5137 - accuracy: 0.9523\n",
            "Epoch 3/6\n",
            "1875/1875 [==============================] - 4s 2ms/step - loss: 1.5005 - accuracy: 0.9643\n",
            "Epoch 4/6\n",
            "1875/1875 [==============================] - 4s 2ms/step - loss: 1.4930 - accuracy: 0.9709\n",
            "Epoch 5/6\n",
            "1875/1875 [==============================] - 4s 2ms/step - loss: 1.4878 - accuracy: 0.9754\n",
            "Epoch 6/6\n",
            "1875/1875 [==============================] - 4s 2ms/step - loss: 1.4846 - accuracy: 0.9787\n",
            "Evaluate on test data\n",
            "313/313 [==============================] - 0s 1ms/step - loss: 1.4902 - accuracy: 0.9730\n",
            "test loss, test acc: [1.4902005195617676, 0.9729999899864197]\n",
            "Generate predictions for 10 samples\n",
            "WARNING:tensorflow:7 out of the last 13 calls to <function Model.make_predict_function.<locals>.predict_function at 0x7f97291b8598> triggered tf.function retracing. Tracing is expensive and the excessive number of tracings could be due to (1) creating @tf.function repeatedly in a loop, (2) passing tensors with different shapes, (3) passing Python objects instead of tensors. For (1), please define your @tf.function outside of the loop. For (2), @tf.function has experimental_relax_shapes=True option that relaxes argument shapes that can avoid unnecessary retracing. For (3), please refer to https://www.tensorflow.org/tutorials/customization/performance#python_or_tensor_args and https://www.tensorflow.org/api_docs/python/tf/function for  more details.\n",
            "predictions shape: (10, 10)\n"
          ],
          "name": "stdout"
        },
        {
          "output_type": "execute_result",
          "data": {
            "text/plain": [
              "(0.14902005195617676,\n",
              " 0.9729999899864197,\n",
              " array([[1.45604167e-14, 1.60490013e-21, 1.59604399e-10, 1.94213734e-09,\n",
              "         5.75410874e-19, 1.70621506e-14, 3.20012731e-27, 1.00000000e+00,\n",
              "         1.70539608e-13, 1.23498087e-12],\n",
              "        [5.42890148e-14, 2.50539478e-10, 1.00000000e+00, 1.36011633e-10,\n",
              "         6.69100864e-30, 2.87549550e-11, 2.85908732e-12, 3.04468027e-30,\n",
              "         4.72497348e-08, 2.26423225e-27],\n",
              "        [6.50263263e-12, 9.99984503e-01, 1.47367791e-05, 1.71698975e-08,\n",
              "         1.47464849e-08, 5.21046006e-09, 4.62503600e-08, 1.62891808e-07,\n",
              "         4.98427539e-07, 1.10081640e-11],\n",
              "        [1.00000000e+00, 5.84546754e-16, 9.99716560e-11, 2.42450175e-11,\n",
              "         2.09782483e-17, 4.98676014e-12, 6.46785338e-15, 5.87555693e-09,\n",
              "         8.84349133e-19, 1.35863051e-14],\n",
              "        [1.37188633e-12, 4.69469282e-15, 1.17649406e-11, 2.78704714e-15,\n",
              "         9.99832273e-01, 1.84526266e-11, 1.73535283e-11, 1.70193186e-06,\n",
              "         1.02318612e-10, 1.66019832e-04],\n",
              "        [2.27017044e-14, 9.99999642e-01, 1.15902942e-07, 1.85796961e-10,\n",
              "         4.85153195e-10, 2.39214811e-12, 4.17411765e-12, 2.62273119e-07,\n",
              "         5.97685279e-09, 1.96480487e-13],\n",
              "        [3.42562954e-17, 5.98317604e-18, 9.04377501e-16, 1.73637074e-15,\n",
              "         9.99966741e-01, 2.23144593e-11, 1.57838193e-13, 1.42518051e-08,\n",
              "         3.31414849e-05, 1.06595067e-07],\n",
              "        [1.69406695e-15, 1.01332620e-09, 1.10361546e-10, 5.98464611e-09,\n",
              "         4.60364618e-06, 1.02876129e-06, 2.56884713e-14, 9.50901136e-10,\n",
              "         8.84269724e-08, 9.99994278e-01],\n",
              "        [4.73194106e-09, 5.56532320e-10, 1.62606508e-01, 1.50462057e-07,\n",
              "         1.70926214e-04, 1.98040932e-01, 6.39050782e-01, 1.03963463e-12,\n",
              "         1.21313547e-04, 9.37233199e-06],\n",
              "        [5.14073348e-16, 2.15191683e-21, 3.56437321e-17, 3.30092941e-13,\n",
              "         2.06131563e-02, 2.73643761e-16, 2.09815421e-17, 1.73277422e-05,\n",
              "         3.36744790e-07, 9.79369104e-01]], dtype=float32))"
            ]
          },
          "metadata": {
            "tags": []
          },
          "execution_count": 33
        }
      ]
    },
    {
      "cell_type": "code",
      "metadata": {
        "colab": {
          "base_uri": "https://localhost:8080/"
        },
        "id": "21vzbUnLVdjn",
        "outputId": "f7a2b261-be76-4c06-dfb8-500f4ca74b70"
      },
      "source": [
        "print(y_test[:10])"
      ],
      "execution_count": null,
      "outputs": [
        {
          "output_type": "stream",
          "text": [
            "[[7]\n",
            " [2]\n",
            " [1]\n",
            " [0]\n",
            " [4]\n",
            " [1]\n",
            " [4]\n",
            " [9]\n",
            " [5]\n",
            " [9]]\n"
          ],
          "name": "stdout"
        }
      ]
    },
    {
      "cell_type": "markdown",
      "metadata": {
        "id": "CvotGgJ_2mup"
      },
      "source": [
        "## Random Forest\n",
        "\n",
        "The `random_forest` function learns an ensemble of numBags CART decision trees using a random subset of the features at each split on the input dataset and also plots the  out-of-bag error as a function of the number of bags\n",
        "\n",
        "Inputs:\n",
        "* `X_train` is the training data\n",
        "* `y_train` are the training labels\n",
        "* `X_test` is the testing data\n",
        "* `y_test` are the testing labels\n",
        "* `num_bags` is the number of trees to learn in the ensemble\n",
        "* `m` is the number of randomly selected features to consider at each split\n",
        "\n",
        "Outputs: \n",
        "* `out_of_bag_error` is the out-of-bag classification error of the final learned ensemble\n",
        "* `test_error` is the classification error of the final learned ensemble on test data\n",
        "\n",
        "Note: You may use sklearns 'DecisonTreeClassifier' but **not** 'RandomForestClassifier' or any other bagging function\n",
        "\n"
      ]
    },
    {
      "cell_type": "code",
      "metadata": {
        "id": "UlZ-XeLN2iTv"
      },
      "source": [
        "def random_forest(X_train, y_train, X_test, y_test, num_bags, m):\n",
        "\n",
        "  # create a matrix of size (number of rows of y_train) * (num_bag) \n",
        "  matrix = np.zeros((len(y_train), num_bags))\n",
        "  matrixTest = np.zeros((len(y_test), num_bags))\n",
        "  # use a for loop to iterate over all 200 bags/trees\n",
        "\n",
        "  out_of_bag_error = np.zeros((num_bags,))\n",
        "\n",
        "  for a in range(num_bags):\n",
        "    #np.random.choice() means 从第一个参数里随机选择第二个参数个数(choose with replacement)， return一个array\n",
        "    in_bag_index = np.random.choice(np.arange(X_train.shape[0]), X_train.shape[0])\n",
        "    #np.setdiff1d() means 把in_bag_index和np.arange(X_train.shape[0])的不同项给找出来作为out_bag_index,因为out_bag_index + in_bag_index就是全部的rows in the dataset\n",
        "    out_bag_index = np.setdiff1d(np.arange(X_train.shape[0]), in_bag_index)\n",
        "    #x_inbag is the rows that are selected as the in sample training, essentially a subset of the original whole matrix\n",
        "    x_inbag = X_train[in_bag_index, :]\n",
        "    y_inbag = y_train[in_bag_index]\n",
        "    #x_oob dimension is out_bag_index * X_train columns)\n",
        "    x_oob = X_train[out_bag_index, :]\n",
        "    y_oob = y_train[out_bag_index]\n",
        "    clf = DecisionTreeClassifier(max_features = m)\n",
        "    clf.fit(x_inbag, y_inbag)\n",
        "    #fill in the matrix now in order to calculate the mode of predicted y, then calculating the error\n",
        "    #predict(oob_x) => oob_predict_y;predict(in_bag_x) => NaN\n",
        "    #the index for matrix is FISHY here!! We want to fill the predicted y value for each tree into the table\n",
        "    matrix[out_bag_index,a] = clf.predict(x_oob)\n",
        "    matrix[in_bag_index,a] = np.nan\n",
        "    matrixTest[:, a] = clf.predict(X_test)\n",
        "\n",
        "    #calculate the mode for each y value across all trees; the stats.mode function returns an array of modal values\n",
        "    predicted_y_oob_error_mode = mode(matrix[:, :a], axis=1).mode                                         \n",
        "    #compare this predicted y_value with the actual y, in order to calculate the oob error\n",
        "    #we do not include nan in the calculation of accuracy_oob\n",
        "    \n",
        "    #index gives True if predicted_y_oob_error_mode is not nan\n",
        "    index = ~np.isnan(predicted_y_oob_error_mode).reshape(-1)\n",
        "    #np.sum sums up all the true counts in the array\n",
        "    num_oob = np.sum(index)\n",
        "    accuracy_oob = np.sum(y_train[index] == predicted_y_oob_error_mode[index].reshape(-1)) / num_oob\n",
        "    #accuray_score(y_train, predicted_y_oob_error_mode)\n",
        "    out_of_bag_error[a] = 1 - accuracy_oob\n",
        "  \n",
        "  #calculate test error just as how we did for oob error\n",
        "  plt.plot(range(num_bags), out_of_bag_error)\n",
        "  plt.xlabel(\"number of bags\")\n",
        "  plt.ylabel(\"out of bag error\")\n",
        "  predicted_y_test_error_mode = mode(matrixTest, axis = 1).mode\n",
        "  accuracy_test = np.sum(y_test == predicted_y_test_error_mode.reshape(-1)) / y_test.shape[0]\n",
        "  #accuracy_score(y_test,y_predict)\n",
        "  test_error = 1 - accuracy_test\n",
        "  return out_of_bag_error, test_error"
      ],
      "execution_count": null,
      "outputs": []
    },
    {
      "cell_type": "markdown",
      "metadata": {
        "id": "j7Cuyd_N9rH_"
      },
      "source": [
        "## Run and Plot\n",
        "\n",
        "Run your random forest code and plot figures below"
      ]
    },
    {
      "cell_type": "code",
      "metadata": {
        "id": "L7seATRA9rge"
      },
      "source": [
        "#questions to ask TA:\n",
        "#1) for question 3 part b, whaere in the excel is for the digits 1vs 3 and where is 3 vs5?\n",
        "\n"
      ],
      "execution_count": null,
      "outputs": []
    },
    {
      "cell_type": "code",
      "metadata": {
        "id": "q-7GMgoXUF2X"
      },
      "source": [
        "train = pd.read_csv('/content/gdrive/My Drive/zip_train.csv')\n",
        "test = pd.read_csv('/content/gdrive/My Drive/zip_test.csv')\n",
        "train = train.to_numpy() \n",
        "test = test.to_numpy()\n",
        "# extract 1 and 3\n",
        "one_vs_three_train = np.r_[train[np.where(train[:, 0] == 1)[0], :], train[np.where(train[:, 0] == 3)[0], :]]\n",
        "# three_vs_five_train = np.r_[train[np.where(train[:, 0] == 3)[0], :], train[np.where(train[:, 0] == 5)[0], :]]\n",
        "X_train = one_vs_three_train[:, 1:]\n",
        "y_train = one_vs_three_train[:, 0]\n",
        "\n",
        "one_vs_three_test = np.r_[test[np.where(test[:, 0] == 1)[0], :], test[np.where(test[:, 0] == 3)[0], :]]\n",
        "# three_vs_five_test = np.r_[test[np.where(test[:, 0] == 3)[0], :], test[np.where(test[:, 0] == 5)[0], :]]\n",
        "X_test = one_vs_three_test[:, 1:]\n",
        "y_test = one_vs_three_test[:, 0]\n",
        "\n"
      ],
      "execution_count": null,
      "outputs": []
    },
    {
      "cell_type": "code",
      "metadata": {
        "colab": {
          "base_uri": "https://localhost:8080/"
        },
        "id": "fkvAuMy_JOq-",
        "outputId": "b313d2e9-0d36-49b7-9051-8439948aeab0"
      },
      "source": [
        "num_bags = 200\n",
        "m = 80\n",
        "random_forest(X_train, y_train, X_test, y_test, num_bags, m)"
      ],
      "execution_count": null,
      "outputs": [
        {
          "output_type": "stream",
          "text": [
            "/usr/local/lib/python3.6/dist-packages/ipykernel_launcher.py:39: RuntimeWarning: invalid value encountered in long_scalars\n"
          ],
          "name": "stderr"
        },
        {
          "output_type": "execute_result",
          "data": {
            "text/plain": [
              "(array([       nan, 0.00495868, 0.00981354, 0.00944882, 0.01057082,\n",
              "        0.00996678, 0.00512821, 0.00564617, 0.00617284, 0.00489896,\n",
              "        0.0042605 , 0.00425273, 0.00242131, 0.00241546, 0.00181159,\n",
              "        0.00180832, 0.00180723, 0.00180614, 0.00060205, 0.00120337,\n",
              "        0.00120337, 0.00120265, 0.00120265, 0.00060132, 0.00060132,\n",
              "        0.00120265, 0.00120265, 0.00120265, 0.00180397, 0.00180397,\n",
              "        0.00240529, 0.00180397, 0.00120265, 0.00120265, 0.00120265,\n",
              "        0.00120265, 0.00180397, 0.00180397, 0.00240529, 0.00180397,\n",
              "        0.00240529, 0.00240529, 0.00240529, 0.00240529, 0.00240529,\n",
              "        0.00180397, 0.00120265, 0.00120265, 0.00120265, 0.00060132,\n",
              "        0.00060132, 0.00060132, 0.00060132, 0.00060132, 0.00060132,\n",
              "        0.00060132, 0.00060132, 0.00120265, 0.00120265, 0.00120265,\n",
              "        0.00060132, 0.00060132, 0.00060132, 0.00060132, 0.00120265,\n",
              "        0.00120265, 0.00120265, 0.00180397, 0.00180397, 0.00120265,\n",
              "        0.00120265, 0.00120265, 0.00120265, 0.00060132, 0.00060132,\n",
              "        0.00120265, 0.00180397, 0.00180397, 0.00180397, 0.00180397,\n",
              "        0.00180397, 0.00120265, 0.00120265, 0.00120265, 0.00120265,\n",
              "        0.00120265, 0.00120265, 0.00120265, 0.00120265, 0.00180397,\n",
              "        0.00180397, 0.00180397, 0.00180397, 0.00180397, 0.00120265,\n",
              "        0.00120265, 0.00120265, 0.00120265, 0.00120265, 0.00120265,\n",
              "        0.00120265, 0.00120265, 0.00120265, 0.00120265, 0.00120265,\n",
              "        0.00120265, 0.00120265, 0.00120265, 0.00120265, 0.00120265,\n",
              "        0.00120265, 0.00120265, 0.00120265, 0.00120265, 0.00120265,\n",
              "        0.00120265, 0.00120265, 0.00120265, 0.00120265, 0.00120265,\n",
              "        0.00120265, 0.00120265, 0.00120265, 0.00120265, 0.00120265,\n",
              "        0.00120265, 0.00120265, 0.00120265, 0.00120265, 0.00120265,\n",
              "        0.00120265, 0.00120265, 0.00120265, 0.00120265, 0.00120265,\n",
              "        0.00120265, 0.00120265, 0.00120265, 0.00120265, 0.00120265,\n",
              "        0.00120265, 0.00120265, 0.00120265, 0.00120265, 0.00120265,\n",
              "        0.00120265, 0.00120265, 0.00120265, 0.00120265, 0.00120265,\n",
              "        0.00120265, 0.00120265, 0.00120265, 0.00120265, 0.00120265,\n",
              "        0.00120265, 0.00120265, 0.00120265, 0.00120265, 0.00120265,\n",
              "        0.00120265, 0.00120265, 0.00120265, 0.00120265, 0.00120265,\n",
              "        0.00120265, 0.00120265, 0.00120265, 0.00120265, 0.00120265,\n",
              "        0.00120265, 0.00120265, 0.00120265, 0.00120265, 0.00120265,\n",
              "        0.00120265, 0.00120265, 0.00120265, 0.00120265, 0.00120265,\n",
              "        0.00120265, 0.00120265, 0.00120265, 0.00120265, 0.00120265,\n",
              "        0.00120265, 0.00120265, 0.00120265, 0.00120265, 0.00120265,\n",
              "        0.00120265, 0.00120265, 0.00120265, 0.00120265, 0.00120265,\n",
              "        0.00120265, 0.00120265, 0.00120265, 0.00120265, 0.00120265]),\n",
              " 0.011627906976744207)"
            ]
          },
          "metadata": {
            "tags": []
          },
          "execution_count": 11
        },
        {
          "output_type": "display_data",
          "data": {
            "image/png": "[encoded data removed]",
            "text/plain": [
              "<Figure size 432x288 with 1 Axes>"
            ]
          },
          "metadata": {
            "tags": [],
            "needs_background": "light"
          }
        }
      ]
    },
    {
      "cell_type": "code",
      "metadata": {
        "id": "oaxp1xJnutWx"
      },
      "source": [
        "# extract 3 and 5\n",
        "three_vs_five_train = np.r_[train[np.where(train[:, 0] == 3)[0], :], train[np.where(train[:, 0] == 5)[0], :]]\n",
        "X_train = three_vs_five_train[:, 1:]\n",
        "y_train = three_vs_five_train[:, 0]\n",
        "\n",
        "three_vs_five_test = np.r_[test[np.where(test[:, 0] == 3)[0], :], test[np.where(test[:, 0] == 5)[0], :]]\n",
        "X_test = three_vs_five_test[:, 1:]\n",
        "y_test = three_vs_five_test[:, 0]"
      ],
      "execution_count": null,
      "outputs": []
    },
    {
      "cell_type": "code",
      "metadata": {
        "colab": {
          "base_uri": "https://localhost:8080/",
          "height": 1000
        },
        "id": "MIPw_wBcuwaW",
        "outputId": "2ba5b2e7-662b-4bb7-94f8-68bf0b0367b1"
      },
      "source": [
        "num_bags = 200\n",
        "m = 80\n",
        "random_forest(X_train, y_train, X_test, y_test, num_bags, m)"
      ],
      "execution_count": null,
      "outputs": [
        {
          "output_type": "stream",
          "text": [
            "/usr/local/lib/python3.6/dist-packages/ipykernel_launcher.py:39: RuntimeWarning: invalid value encountered in long_scalars\n"
          ],
          "name": "stderr"
        },
        {
          "output_type": "execute_result",
          "data": {
            "text/plain": [
              "(array([       nan, 0.07093822, 0.0739726 , 0.06637168, 0.07017544,\n",
              "        0.06537753, 0.06420405, 0.06357388, 0.05902192, 0.0558799 ,\n",
              "        0.05550953, 0.05528053, 0.05193735, 0.05523495, 0.05436573,\n",
              "        0.05436573, 0.04942339, 0.04859967, 0.04695222, 0.04118616,\n",
              "        0.03953871, 0.03459638, 0.0354201 , 0.03212521, 0.02965404,\n",
              "        0.02800659, 0.02965404, 0.02800659, 0.02800659, 0.02883031,\n",
              "        0.03047776, 0.02883031, 0.02718287, 0.02800659, 0.02635914,\n",
              "        0.0247117 , 0.02553542, 0.02553542, 0.02635914, 0.0247117 ,\n",
              "        0.02718287, 0.02388797, 0.02800659, 0.02718287, 0.02553542,\n",
              "        0.0247117 , 0.02306425, 0.02635914, 0.02306425, 0.02388797,\n",
              "        0.02388797, 0.0214168 , 0.01976936, 0.02306425, 0.0214168 ,\n",
              "        0.02224053, 0.02306425, 0.02388797, 0.02224053, 0.02224053,\n",
              "        0.02224053, 0.02224053, 0.02224053, 0.02224053, 0.02306425,\n",
              "        0.02224053, 0.02224053, 0.02059308, 0.0214168 , 0.02059308,\n",
              "        0.02059308, 0.02059308, 0.02059308, 0.02059308, 0.02059308,\n",
              "        0.02059308, 0.02224053, 0.0214168 , 0.02224053, 0.02224053,\n",
              "        0.0214168 , 0.0214168 , 0.02224053, 0.02224053, 0.0214168 ,\n",
              "        0.02224053, 0.02224053, 0.02224053, 0.02224053, 0.0214168 ,\n",
              "        0.0214168 , 0.0214168 , 0.02059308, 0.0214168 , 0.0214168 ,\n",
              "        0.02224053, 0.02224053, 0.0214168 , 0.0214168 , 0.0214168 ,\n",
              "        0.0214168 , 0.0214168 , 0.02224053, 0.02224053, 0.0214168 ,\n",
              "        0.0214168 , 0.02059308, 0.02059308, 0.02059308, 0.01976936,\n",
              "        0.01894563, 0.01894563, 0.01894563, 0.01812191, 0.01812191,\n",
              "        0.01812191, 0.02059308, 0.02059308, 0.01976936, 0.01976936,\n",
              "        0.01812191, 0.01812191, 0.01894563, 0.01976936, 0.01729819,\n",
              "        0.01729819, 0.01812191, 0.01812191, 0.01812191, 0.01812191,\n",
              "        0.01894563, 0.01894563, 0.01812191, 0.01894563, 0.01812191,\n",
              "        0.01894563, 0.01894563, 0.01976936, 0.01976936, 0.02059308,\n",
              "        0.01976936, 0.02224053, 0.02224053, 0.0214168 , 0.02224053,\n",
              "        0.02224053, 0.02306425, 0.02224053, 0.0214168 , 0.0214168 ,\n",
              "        0.0214168 , 0.0214168 , 0.0214168 , 0.0214168 , 0.0214168 ,\n",
              "        0.0214168 , 0.0214168 , 0.01976936, 0.01976936, 0.02059308,\n",
              "        0.02059308, 0.02059308, 0.02059308, 0.02059308, 0.02059308,\n",
              "        0.02059308, 0.02059308, 0.02059308, 0.02059308, 0.02059308,\n",
              "        0.02059308, 0.0214168 , 0.0214168 , 0.02059308, 0.02059308,\n",
              "        0.01976936, 0.01976936, 0.02059308, 0.02059308, 0.02059308,\n",
              "        0.0214168 , 0.0214168 , 0.0214168 , 0.0214168 , 0.02059308,\n",
              "        0.02059308, 0.0214168 , 0.0214168 , 0.0214168 , 0.0214168 ,\n",
              "        0.0214168 , 0.0214168 , 0.0214168 , 0.0214168 , 0.02224053,\n",
              "        0.02224053, 0.0214168 , 0.0214168 , 0.0214168 , 0.0214168 ]),\n",
              " 0.06748466257668717)"
            ]
          },
          "metadata": {
            "tags": []
          },
          "execution_count": 9
        },
        {
          "output_type": "display_data",
          "data": {
            "image/png": "[encoded data removed]",
            "text/plain": [
              "<Figure size 432x288 with 1 Axes>"
            ]
          },
          "metadata": {
            "tags": [],
            "needs_background": "light"
          }
        }
      ]
    },
    {
      "cell_type": "code",
      "metadata": {
        "colab": {
          "base_uri": "https://localhost:8080/"
        },
        "id": "nYs3Z2ldAV2_",
        "outputId": "7bb32f6d-cf2f-485b-9131-46f35049eaa8"
      },
      "source": [
        "a = np.ones((4,4))\n",
        "a[2,:] = np.nan\n",
        "a[1, 1:] = np.nan\n",
        "a"
      ],
      "execution_count": null,
      "outputs": [
        {
          "output_type": "execute_result",
          "data": {
            "text/plain": [
              "array([[ 1.,  1.,  1.,  1.],\n",
              "       [ 1., nan, nan, nan],\n",
              "       [nan, nan, nan, nan],\n",
              "       [ 1.,  1.,  1.,  1.]])"
            ]
          },
          "metadata": {
            "tags": []
          },
          "execution_count": 61
        }
      ]
    },
    {
      "cell_type": "code",
      "metadata": {
        "colab": {
          "base_uri": "https://localhost:8080/"
        },
        "id": "H2qaHje5CNPe",
        "outputId": "b977c97b-6148-4d96-9459-f3e64c60f631"
      },
      "source": [
        "y_pred_pre = mode(a, axis=1).mode\n",
        "index = ~np.isnan(y_pred_pre)\n",
        "print(index)\n",
        "y_pred_pre[index]"
      ],
      "execution_count": null,
      "outputs": [
        {
          "output_type": "stream",
          "text": [
            "[[ True]\n",
            " [ True]\n",
            " [False]\n",
            " [ True]]\n"
          ],
          "name": "stdout"
        },
        {
          "output_type": "execute_result",
          "data": {
            "text/plain": [
              "array([1., 1., 1.])"
            ]
          },
          "metadata": {
            "tags": []
          },
          "execution_count": 66
        }
      ]
    },
    {
      "cell_type": "code",
      "metadata": {
        "colab": {
          "base_uri": "https://localhost:8080/"
        },
        "id": "eb58agq8IwLu",
        "outputId": "724e3029-9bab-4fb7-fe0b-1bca356e864a"
      },
      "source": [
        "np.sum(index)\n",
        "\n",
        "\n",
        "     t1   t2   t3   t4   t5   t6oob_error\n",
        "y1   1    nan   3    0   0\n",
        "y2   nan   1    1    0   0\n",
        "y3   nan  nan  nan   0   0"
      ],
      "execution_count": null,
      "outputs": [
        {
          "output_type": "execute_result",
          "data": {
            "text/plain": [
              "3"
            ]
          },
          "metadata": {
            "tags": []
          },
          "execution_count": 65
        }
      ]
    }
  ]
}
